{
 "cells": [
  {
   "cell_type": "code",
   "execution_count": 1,
   "metadata": {},
   "outputs": [],
   "source": [
    "import numpy as np\n",
    "from scipy.stats.mstats import gmean\n",
    "import matplotlib.pyplot as plt\n",
    "\n",
    "np.random.seed(1123)"
   ]
  },
  {
   "cell_type": "markdown",
   "metadata": {},
   "source": [
    "## Saint Petersburg Wager"
   ]
  },
  {
   "cell_type": "code",
   "execution_count": 2,
   "metadata": {},
   "outputs": [],
   "source": [
    "# Monte Carlo Simulation\n",
    "dice_payoff = [1, 2, 6, 22, 200, 1000000]\n",
    "dice_probs = [1/6, 1/6, 1/6, 1/6, 1/6, 1/6]\n",
    "n_trials = 10_000_000\n",
    "n_rolls = 1\n",
    "mc = np.random.choice(dice_payoff, (n_trials, n_rolls), p=dice_probs)"
   ]
  },
  {
   "cell_type": "code",
   "execution_count": 3,
   "metadata": {},
   "outputs": [
    {
     "name": "stdout",
     "output_type": "stream",
     "text": [
      "Arithmetic expected value: 166812.2231941\n",
      "Geometric expected value: 61.330840050335986\n"
     ]
    }
   ],
   "source": [
    "arithmetic_mean = np.mean(mc, axis=1)\n",
    "arithmetic_center  = np.mean(arithmetic_mean)\n",
    "print(f\"Arithmetic expected value: {arithmetic_center}\")\n",
    "\n",
    "geometric_mean = gmean(mc, axis=1)\n",
    "geom_center  = gmean(geometric_mean)\n",
    "print(f\"Geometric expected value: {geom_center}\")\n"
   ]
  },
  {
   "cell_type": "code",
   "execution_count": null,
   "metadata": {},
   "outputs": [],
   "source": []
  }
 ],
 "metadata": {
  "kernelspec": {
   "display_name": "venv-sh",
   "language": "python",
   "name": "python3"
  },
  "language_info": {
   "codemirror_mode": {
    "name": "ipython",
    "version": 3
   },
   "file_extension": ".py",
   "mimetype": "text/x-python",
   "name": "python",
   "nbconvert_exporter": "python",
   "pygments_lexer": "ipython3",
   "version": "3.9.6"
  },
  "orig_nbformat": 4
 },
 "nbformat": 4,
 "nbformat_minor": 2
}
