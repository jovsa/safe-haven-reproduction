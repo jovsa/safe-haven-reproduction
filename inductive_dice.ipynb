{
 "cells": [
  {
   "cell_type": "code",
   "execution_count": 55,
   "metadata": {},
   "outputs": [],
   "source": [
    "import datetime\n",
    "from functools import lru_cache\n",
    "import numpy as np\n",
    "from scipy.stats.mstats import gmean\n",
    "import matplotlib.pyplot as plt\n",
    "import yfinance as yf\n",
    "\n",
    "np.random.seed(1123)"
   ]
  },
  {
   "cell_type": "code",
   "execution_count": 26,
   "metadata": {},
   "outputs": [],
   "source": [
    "# Monte Carlo Simulation\n",
    "spx_payoff = np.array([0.85, 1.0, 1.15, 1.30, 1.55])\n",
    "spx_probs = np.array([11/120, 22/120, 30/120, 37/120, 20/120])\n",
    "n_trials = 10_000\n",
    "n_rolls = 25\n",
    "mc = np.random.choice(spx_payoff, (n_trials, n_rolls), p=spx_probs)"
   ]
  },
  {
   "cell_type": "code",
   "execution_count": 69,
   "metadata": {},
   "outputs": [],
   "source": [
    "@lru_cache(maxsize=None)\n",
    "def get_sp500_yearly_returns(end_year, start_year=1930):\n",
    "    # Initialize a yfinance session\n",
    "    yf.pdr_override()\n",
    "\n",
    "    # Define the ticker symbol for the S&P 500\n",
    "    symbol = '^GSPC'\n",
    "\n",
    "    # Initialize a dictionary to store YOY returns for each year\n",
    "    yearly_returns = {}\n",
    "\n",
    "    # Loop through each year and calculate YOY returns\n",
    "    for year in range(start_year, end_year + 1):\n",
    "        start_date = datetime.datetime(year, 1, 1)\n",
    "        end_date = datetime.datetime(year + 1, 1, 1) - datetime.timedelta(days=1)\n",
    "\n",
    "        # Fetch historical data for the S&P 500 for the current year\n",
    "        sp500 = yf.download(symbol, start=start_date, end=end_date, progress=False)\n",
    "\n",
    "        # Calculate the YOY return for the current year\n",
    "        closing_price_start = sp500['Adj Close'].iloc[0]\n",
    "        closing_price_end = sp500['Adj Close'].iloc[-1]\n",
    "\n",
    "        year_over_year_return = (closing_price_end - closing_price_start) / closing_price_start * 100\n",
    "\n",
    "        # Store the YOY return in the dictionary\n",
    "        yearly_returns[year] = year_over_year_return\n",
    "\n",
    "    return yearly_returns"
   ]
  },
  {
   "cell_type": "code",
   "execution_count": 70,
   "metadata": {},
   "outputs": [],
   "source": [
    "yearly_returns = get_sp500_yearly_returns(end_year=2022)"
   ]
  },
  {
   "cell_type": "code",
   "execution_count": null,
   "metadata": {},
   "outputs": [],
   "source": []
  }
 ],
 "metadata": {
  "kernelspec": {
   "display_name": "venv-sh",
   "language": "python",
   "name": "python3"
  },
  "language_info": {
   "codemirror_mode": {
    "name": "ipython",
    "version": 3
   },
   "file_extension": ".py",
   "mimetype": "text/x-python",
   "name": "python",
   "nbconvert_exporter": "python",
   "pygments_lexer": "ipython3",
   "version": "3.9.6"
  },
  "orig_nbformat": 4
 },
 "nbformat": 4,
 "nbformat_minor": 2
}
